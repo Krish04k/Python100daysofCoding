{
  "nbformat": 4,
  "nbformat_minor": 0,
  "metadata": {
    "colab": {
      "provenance": []
    },
    "kernelspec": {
      "name": "python3",
      "display_name": "Python 3"
    },
    "language_info": {
      "name": "python"
    }
  },
  "cells": [
    {
      "cell_type": "markdown",
      "source": [
        "\n",
        "\n",
        "---\n",
        "# **Day 14 📅**\n",
        "\n",
        "---\n",
        "*Higher or Lower*\n",
        "\n",
        "\n",
        "---\n",
        "[The Higher Lower Game](https://www.higherlowergame.com/)\n",
        "\n",
        "---\n",
        "* *Breakdown the problem* 🧊\n",
        "* *Make a ToDo List* 🧻\n",
        "   1.   Make a List of blah... blah.. ✒\n",
        "   2.   Generate a random number 🔢\n",
        "   3.   Compare value against previous value  ⚖\n",
        "* *Turn the problems into comments* 🗣\n",
        "* *Write Code ✍*\n",
        "* *Run Code 🏃*\n",
        "* *Fix Code 🪛*\n",
        "\n",
        "**Not sure what to do? Run some**\n",
        " *examples* ☺\n",
        "\n",
        "⭐ Level Up❗\n",
        "\"\"\"\n",
        "\n",
        "\n",
        "---\n",
        "\n",
        "\n",
        "\n"
      ],
      "metadata": {
        "id": "J6zwXw_hkIuk"
      }
    },
    {
      "cell_type": "markdown",
      "source": [
        "\n",
        "\n",
        "---\n",
        "* Display art\n",
        "* Generate a random account from the game data.\n",
        "* Format the account data into printable format.\n",
        "* Ask user for a guess\n",
        "* check if user is correct.\n",
        "  * Get follower count of each account.\n",
        "  * Use if statement to check if user is correct.\n",
        "* Give user feedback on their guess.\n",
        "* Score keeping.\n",
        "* Make the game repeatable.\n",
        "* Making account at position B become the next account at position A.\n",
        "* cleat the screen between rounds.\n",
        "\n",
        "\n",
        "---\n",
        "\n"
      ],
      "metadata": {
        "id": "n9Mev5hDoFlP"
      }
    },
    {
      "cell_type": "code",
      "source": [
        "from art import logo, vs\n",
        "from game_data import data\n",
        "\n",
        "print(logo, vs)"
      ],
      "metadata": {
        "colab": {
          "base_uri": "https://localhost:8080/"
        },
        "id": "YlIRMx3QsYq0",
        "outputId": "8dbb6568-fe48-40a2-e2c9-c3662efaf4cd"
      },
      "execution_count": 5,
      "outputs": [
        {
          "output_type": "stream",
          "name": "stdout",
          "text": [
            "\n",
            "    __  ___       __\n",
            "   / / / (_)___ _/ /_  ___  _____\n",
            "  / /_/ / / __ `/ __ \\/ _ \\/ ___/\n",
            " / __  / / /_/ / / / /  __/ /\n",
            "/_/ ///_/\\__, /_/ /_/\\___/_/\n",
            "   / /  /____/_      _____  _____\n",
            "  / /   / __ \\ | /| / / _ \\/ ___/\n",
            " / /___/ /_/ / |/ |/ /  __/ /\n",
            "/_____/\\____/|__/|__/\\___/_/\n",
            " \n",
            " _    __\n",
            "| |  / /____\n",
            "| | / / ___/\n",
            "| |/ (__  )\n",
            "|___/____(_)\n",
            "\n"
          ]
        }
      ]
    },
    {
      "cell_type": "code",
      "source": [
        "print(data)"
      ],
      "metadata": {
        "colab": {
          "base_uri": "https://localhost:8080/"
        },
        "id": "3pgtAUeNs7gE",
        "outputId": "aa48855e-9a13-40cf-cf78-6674b9bb5a2a"
      },
      "execution_count": 6,
      "outputs": [
        {
          "output_type": "stream",
          "name": "stdout",
          "text": [
            "[{'name': 'Instagram', 'follower_count': 346, 'description': 'Social media platform', 'country': 'United States'}, {'name': 'Cristiano Ronaldo', 'follower_count': 215, 'description': 'Footballer', 'country': 'Portugal'}, {'name': 'Ariana Grande', 'follower_count': 183, 'description': 'Musician and actress', 'country': 'United States'}, {'name': 'Dwayne Johnson', 'follower_count': 181, 'description': 'Actor and professional wrestler', 'country': 'United States'}, {'name': 'Selena Gomez', 'follower_count': 174, 'description': 'Musician and actress', 'country': 'United States'}, {'name': 'Kylie Jenner', 'follower_count': 172, 'description': 'Reality TV personality and businesswoman and Self-Made Billionaire', 'country': 'United States'}, {'name': 'Kim Kardashian', 'follower_count': 167, 'description': 'Reality TV personality and businesswoman', 'country': 'United States'}, {'name': 'Lionel Messi', 'follower_count': 149, 'description': 'Footballer', 'country': 'Argentina'}, {'name': 'Beyoncé', 'follower_count': 145, 'description': 'Musician', 'country': 'United States'}, {'name': 'Neymar', 'follower_count': 138, 'description': 'Footballer', 'country': 'Brasil'}, {'name': 'National Geographic', 'follower_count': 135, 'description': 'Magazine', 'country': 'United States'}, {'name': 'Justin Bieber', 'follower_count': 133, 'description': 'Musician', 'country': 'Canada'}, {'name': 'Taylor Swift', 'follower_count': 131, 'description': 'Musician', 'country': 'United States'}, {'name': 'Kendall Jenner', 'follower_count': 127, 'description': 'Reality TV personality and Model', 'country': 'United States'}, {'name': 'Jennifer Lopez', 'follower_count': 119, 'description': 'Musician and actress', 'country': 'United States'}, {'name': 'Nicki Minaj', 'follower_count': 113, 'description': 'Musician', 'country': 'Trinidad and Tobago'}, {'name': 'Nike', 'follower_count': 109, 'description': 'Sportswear multinational', 'country': 'United States'}, {'name': 'Khloé Kardashian', 'follower_count': 108, 'description': 'Reality TV personality and businesswoman', 'country': 'United States'}, {'name': 'Miley Cyrus', 'follower_count': 107, 'description': 'Musician and actress', 'country': 'United States'}, {'name': 'Katy Perry', 'follower_count': 94, 'description': 'Musician', 'country': 'United States'}, {'name': 'Kourtney Kardashian', 'follower_count': 90, 'description': 'Reality TV personality', 'country': 'United States'}, {'name': 'Kevin Hart', 'follower_count': 89, 'description': 'Comedian and actor', 'country': 'United States'}, {'name': 'Ellen DeGeneres', 'follower_count': 87, 'description': 'Comedian', 'country': 'United States'}, {'name': 'Real Madrid CF', 'follower_count': 86, 'description': 'Football club', 'country': 'Spain'}, {'name': 'FC Barcelona', 'follower_count': 85, 'description': 'Football club', 'country': 'Spain'}, {'name': 'Rihanna', 'follower_count': 81, 'description': 'Musician and businesswoman', 'country': 'Barbados'}, {'name': 'Demi Lovato', 'follower_count': 80, 'description': 'Musician and actress', 'country': 'United States'}, {'name': \"Victoria's Secret\", 'follower_count': 69, 'description': 'Lingerie brand', 'country': 'United States'}, {'name': 'Zendaya', 'follower_count': 68, 'description': 'Actress and musician', 'country': 'United States'}, {'name': 'Shakira', 'follower_count': 66, 'description': 'Musician', 'country': 'Colombia'}, {'name': 'Drake', 'follower_count': 65, 'description': 'Musician', 'country': 'Canada'}, {'name': 'Chris Brown', 'follower_count': 64, 'description': 'Musician', 'country': 'United States'}, {'name': 'LeBron James', 'follower_count': 63, 'description': 'Basketball player', 'country': 'United States'}, {'name': 'Vin Diesel', 'follower_count': 62, 'description': 'Actor', 'country': 'United States'}, {'name': 'Cardi B', 'follower_count': 67, 'description': 'Musician', 'country': 'United States'}, {'name': 'David Beckham', 'follower_count': 82, 'description': 'Footballer', 'country': 'United Kingdom'}, {'name': 'Billie Eilish', 'follower_count': 61, 'description': 'Musician', 'country': 'United States'}, {'name': 'Justin Timberlake', 'follower_count': 59, 'description': 'Musician and actor', 'country': 'United States'}, {'name': 'UEFA Champions League', 'follower_count': 58, 'description': 'Club football competition', 'country': 'Europe'}, {'name': 'NASA', 'follower_count': 56, 'description': 'Space agency', 'country': 'United States'}, {'name': 'Emma Watson', 'follower_count': 56, 'description': 'Actress', 'country': 'United Kingdom'}, {'name': 'Shawn Mendes', 'follower_count': 57, 'description': 'Musician', 'country': 'Canada'}, {'name': 'Virat Kohli', 'follower_count': 55, 'description': 'Cricketer', 'country': 'India'}, {'name': 'Gigi Hadid', 'follower_count': 54, 'description': 'Model', 'country': 'United States'}, {'name': 'Priyanka Chopra Jonas', 'follower_count': 53, 'description': 'Actress and musician', 'country': 'India'}, {'name': '9GAG', 'follower_count': 52, 'description': 'Social media platform', 'country': 'China'}, {'name': 'Ronaldinho', 'follower_count': 51, 'description': 'Footballer', 'country': 'Brasil'}, {'name': 'Maluma', 'follower_count': 50, 'description': 'Musician', 'country': 'Colombia'}, {'name': 'Camila Cabello', 'follower_count': 49, 'description': 'Musician', 'country': 'Cuba'}, {'name': 'NBA', 'follower_count': 47, 'description': 'Club Basketball Competition', 'country': 'United States'}]\n"
          ]
        }
      ]
    },
    {
      "cell_type": "code",
      "execution_count": 1,
      "metadata": {
        "colab": {
          "base_uri": "https://localhost:8080/"
        },
        "id": "E0Dbmfs8kHw2",
        "outputId": "504f1f69-6c1d-456c-8cd2-176299709554"
      },
      "outputs": [
        {
          "output_type": "stream",
          "name": "stdout",
          "text": [
            "\n",
            "    __  ___       __\n",
            "   / / / (_)___ _/ /_  ___  _____\n",
            "  / /_/ / / __ `/ __ \\/ _ \\/ ___/\n",
            " / __  / / /_/ / / / /  __/ /\n",
            "/_/ ///_/\\__, /_/ /_/\\___/_/\n",
            "   / /  /____/_      _____  _____\n",
            "  / /   / __ \\ | /| / / _ \\/ ___/\n",
            " / /___/ /_/ / |/ |/ /  __/ /\n",
            "/_____/\\____/|__/|__/\\___/_/\n",
            "\n",
            "Sorry, that's wrong. Final score: 2\n"
          ]
        }
      ],
      "source": [
        "# Clear the Screen between two rounds.\n",
        "from IPython.display import clear_output\n",
        "\n",
        "\"\"\"HiGhErLoWeR 📊 : Final Complete **Solution**\"\"\"\n",
        "\n",
        "from game_data import data\n",
        "import random\n",
        "from art import logo, vs\n",
        "from IPython.display import clear_output\n",
        "\n",
        "def get_random_account():\n",
        "  \"\"\"Get data from random account\"\"\"\n",
        "  return random.choice(data)\n",
        "\n",
        "def format_data(account):\n",
        "  \"\"\"Format account into printable format: name, description and country\"\"\"\n",
        "  name = account[\"name\"]\n",
        "  description = account[\"description\"]\n",
        "  country = account[\"country\"]\n",
        "  # print(f'{name}: {account[\"follower_count\"]}')\n",
        "  return f\"{name}, a {description}, from {country}\"\n",
        "\n",
        "def check_answer(guess, a_followers, b_followers):\n",
        "  \"\"\"Checks followers against user's guess\n",
        "  and returns True if they got it right.\n",
        "  Or False if they got it wrong.\"\"\"\n",
        "  if a_followers > b_followers:\n",
        "    return guess == \"a\"\n",
        "  else:\n",
        "    return guess == \"b\"\n",
        "\n",
        "\n",
        "def game():\n",
        "  print(logo)\n",
        "  score = 0\n",
        "  game_should_continue = True\n",
        "  account_a = get_random_account()\n",
        "  account_b = get_random_account()\n",
        "\n",
        "  while game_should_continue:\n",
        "    account_a = account_b\n",
        "    account_b = get_random_account()\n",
        "\n",
        "    while account_a == account_b:\n",
        "      account_b = get_random_account()\n",
        "\n",
        "    print(f\"Compare A: {format_data(account_a)}.\")\n",
        "    print(vs)\n",
        "    print(f\"Against B: {format_data(account_b)}.\")\n",
        "\n",
        "    guess = input(\"Who has more followers? Type 'A' or 'B': \").lower()\n",
        "    a_follower_count = account_a[\"follower_count\"]\n",
        "    b_follower_count = account_b[\"follower_count\"]\n",
        "    is_correct = check_answer(guess, a_follower_count, b_follower_count)\n",
        "\n",
        "    clear_output(wait=True)\n",
        "    print(logo)\n",
        "    if is_correct:\n",
        "      score += 1\n",
        "      print(f\"You're right! Current score: {score}.\")\n",
        "    else:\n",
        "      game_should_continue = False\n",
        "      print(f\"Sorry, that's wrong. Final score: {score}\")\n",
        "\n",
        "game()"
      ]
    }
  ]
}