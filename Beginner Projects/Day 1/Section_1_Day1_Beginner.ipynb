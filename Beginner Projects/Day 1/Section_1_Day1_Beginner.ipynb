{
  "nbformat": 4,
  "nbformat_minor": 0,
  "metadata": {
    "colab": {
      "provenance": []
    },
    "kernelspec": {
      "name": "python3",
      "display_name": "Python 3"
    },
    "language_info": {
      "name": "python"
    }
  },
  "cells": [
    {
      "cell_type": "markdown",
      "source": [
        "# *Printing to the Console in Python 🖨*"
      ],
      "metadata": {
        "id": "J4Xhy9Pjx3CR"
      }
    },
    {
      "cell_type": "code",
      "execution_count": null,
      "metadata": {
        "colab": {
          "base_uri": "https://localhost:8080/"
        },
        "id": "no6-rSiypLUd",
        "outputId": "564c16a0-1d74-4bdc-d89f-62682d8c1508"
      },
      "outputs": [
        {
          "output_type": "stream",
          "name": "stdout",
          "text": [
            "Hello World!\n"
          ]
        }
      ],
      "source": [
        "print(\"Hello World!\")"
      ]
    },
    {
      "cell_type": "code",
      "source": [
        "print(\"Something\")"
      ],
      "metadata": {
        "colab": {
          "base_uri": "https://localhost:8080/"
        },
        "id": "qAKddeZ2pvxq",
        "outputId": "bd3fff30-a28c-432c-dbd9-b0ef1b966c82"
      },
      "execution_count": null,
      "outputs": [
        {
          "output_type": "stream",
          "name": "stdout",
          "text": [
            "Something\n"
          ]
        }
      ]
    },
    {
      "cell_type": "code",
      "source": [
        "# forgotten to add (\") the double quote at the end of the string!.\n",
        "print(\"Hello world!)\n"
      ],
      "metadata": {
        "colab": {
          "base_uri": "https://localhost:8080/",
          "height": 106
        },
        "id": "PNqHJHDDpzTw",
        "outputId": "3eb2f139-81f2-4b5a-e361-9ddd7141a29a"
      },
      "execution_count": null,
      "outputs": [
        {
          "output_type": "error",
          "ename": "SyntaxError",
          "evalue": "unterminated string literal (detected at line 2) (<ipython-input-12-ea85e39a1d2a>, line 2)",
          "traceback": [
            "\u001b[0;36m  File \u001b[0;32m\"<ipython-input-12-ea85e39a1d2a>\"\u001b[0;36m, line \u001b[0;32m2\u001b[0m\n\u001b[0;31m    print(\"Hello world!)\u001b[0m\n\u001b[0m          ^\u001b[0m\n\u001b[0;31mSyntaxError\u001b[0m\u001b[0;31m:\u001b[0m unterminated string literal (detected at line 2)\n"
          ]
        }
      ]
    },
    {
      "cell_type": "markdown",
      "source": [
        "*You're missing double quote at the end!* 👆"
      ],
      "metadata": {
        "id": "wWBTyLGrvG28"
      }
    },
    {
      "cell_type": "code",
      "source": [
        "print(\"Hello world!)\")"
      ],
      "metadata": {
        "colab": {
          "base_uri": "https://localhost:8080/"
        },
        "id": "Zd6KAHGcqitK",
        "outputId": "6a4259c9-0a07-4495-8e91-ec5a586efb36"
      },
      "execution_count": null,
      "outputs": [
        {
          "output_type": "stream",
          "name": "stdout",
          "text": [
            "Hello world!)\n"
          ]
        }
      ]
    },
    {
      "cell_type": "markdown",
      "source": [
        "*Print Modifiers*\n",
        "\n",
        "---\n",
        "\n"
      ],
      "metadata": {
        "id": "flVnGmW-yOco"
      }
    },
    {
      "cell_type": "code",
      "source": [
        "print(\"She said: \"Hello\" and then left.\")"
      ],
      "metadata": {
        "colab": {
          "base_uri": "https://localhost:8080/",
          "height": 106
        },
        "id": "LCULW5ntyRf6",
        "outputId": "d677dde0-2451-41db-cf1f-e11fbb39001b"
      },
      "execution_count": null,
      "outputs": [
        {
          "output_type": "error",
          "ename": "SyntaxError",
          "evalue": "invalid syntax. Perhaps you forgot a comma? (<ipython-input-13-a6d1057d23fc>, line 1)",
          "traceback": [
            "\u001b[0;36m  File \u001b[0;32m\"<ipython-input-13-a6d1057d23fc>\"\u001b[0;36m, line \u001b[0;32m1\u001b[0m\n\u001b[0;31m    print(\"She said: \"Hello\" and then left.\")\u001b[0m\n\u001b[0m          ^\u001b[0m\n\u001b[0;31mSyntaxError\u001b[0m\u001b[0;31m:\u001b[0m invalid syntax. Perhaps you forgot a comma?\n"
          ]
        }
      ]
    },
    {
      "cell_type": "code",
      "source": [
        "print('She said: \"Hello\" and then left.')"
      ],
      "metadata": {
        "colab": {
          "base_uri": "https://localhost:8080/"
        },
        "id": "ohl8xsQ4yaM2",
        "outputId": "da264cf3-46ed-4da5-bf9d-76cfbfbb43f2"
      },
      "execution_count": null,
      "outputs": [
        {
          "output_type": "stream",
          "name": "stdout",
          "text": [
            "She said: \"Hello\" and then left.\n"
          ]
        }
      ]
    },
    {
      "cell_type": "code",
      "source": [
        "print(\"She said: \\\"Hello\\\" and then left.\")"
      ],
      "metadata": {
        "colab": {
          "base_uri": "https://localhost:8080/"
        },
        "id": "I0LZ3EBeyn9c",
        "outputId": "b0c7bf24-c55e-4de6-8e4a-348df1a9d5ac"
      },
      "execution_count": null,
      "outputs": [
        {
          "output_type": "stream",
          "name": "stdout",
          "text": [
            "She said: \"Hello\" and then left.\n"
          ]
        }
      ]
    },
    {
      "cell_type": "code",
      "source": [
        "print(\"A 'single quote' inside a double quote\")\n",
        "print('A\"double quote\" inside a single quote')\n",
        "print(\"Alternatively you can just\\\"escape\\\" the quote\")"
      ],
      "metadata": {
        "colab": {
          "base_uri": "https://localhost:8080/"
        },
        "id": "Y-UgjnSlzF-z",
        "outputId": "1d7eb4c4-3a3e-4759-b068-ae9f9ee8d9be"
      },
      "execution_count": null,
      "outputs": [
        {
          "output_type": "stream",
          "name": "stdout",
          "text": [
            "A 'single quote' inside a double quote\n",
            "A\"double quote\" inside a single quote\n",
            "Alternatively you can just\"escape\" the quote\n"
          ]
        }
      ]
    },
    {
      "cell_type": "markdown",
      "source": [
        "*String Manipulation and Code Intelligence*\n",
        "\n",
        "---\n",
        "\n"
      ],
      "metadata": {
        "id": "PZNkrZmFzn0A"
      }
    },
    {
      "cell_type": "code",
      "source": [
        "print(\"Hello world!\")\n",
        "print(\"Hello world!\")\n",
        "print(\"Hello world!\")"
      ],
      "metadata": {
        "colab": {
          "base_uri": "https://localhost:8080/"
        },
        "id": "c6vgfD9Yzuw3",
        "outputId": "a4d6e948-8802-47f5-8388-8f130c812a18"
      },
      "execution_count": null,
      "outputs": [
        {
          "output_type": "stream",
          "name": "stdout",
          "text": [
            "Hello world!\n",
            "Hello world!\n",
            "Hello world!\n"
          ]
        }
      ]
    },
    {
      "cell_type": "code",
      "source": [
        "print(\"Hello world!\\nHello world!\")"
      ],
      "metadata": {
        "colab": {
          "base_uri": "https://localhost:8080/"
        },
        "id": "haltNbsBz5gS",
        "outputId": "cf85ea24-a12e-4de6-ed57-f5a6ec44ef10"
      },
      "execution_count": null,
      "outputs": [
        {
          "output_type": "stream",
          "name": "stdout",
          "text": [
            "Hello world!\n",
            "Hello world!\n"
          ]
        }
      ]
    },
    {
      "cell_type": "code",
      "source": [
        "print(\"Hello world!\\nHello world!\\nHello world!\")"
      ],
      "metadata": {
        "colab": {
          "base_uri": "https://localhost:8080/"
        },
        "id": "Rho7Q1or0E-f",
        "outputId": "f9ebc8d9-8b18-4faa-be70-b17f4e97ef62"
      },
      "execution_count": null,
      "outputs": [
        {
          "output_type": "stream",
          "name": "stdout",
          "text": [
            "Hello world!\n",
            "Hello world!\n",
            "Hello world!\n"
          ]
        }
      ]
    },
    {
      "cell_type": "code",
      "source": [
        "# String Concatenation\n",
        "print(\"Hello\" + \"Krishna\")"
      ],
      "metadata": {
        "colab": {
          "base_uri": "https://localhost:8080/"
        },
        "id": "-vh5Ok8k0V7K",
        "outputId": "16382f55-1474-404d-f497-8cecc195818b"
      },
      "execution_count": null,
      "outputs": [
        {
          "output_type": "stream",
          "name": "stdout",
          "text": [
            "HelloKrishna\n"
          ]
        }
      ]
    },
    {
      "cell_type": "code",
      "source": [
        "print(\"Hello\" +\" \"+ \"Krishna\")"
      ],
      "metadata": {
        "colab": {
          "base_uri": "https://localhost:8080/"
        },
        "id": "7L1sFxYa0i6K",
        "outputId": "8fb6ec52-adb6-45f1-ac5a-feee7db15a16"
      },
      "execution_count": null,
      "outputs": [
        {
          "output_type": "stream",
          "name": "stdout",
          "text": [
            "Hello Krishna\n"
          ]
        }
      ]
    },
    {
      "cell_type": "code",
      "source": [
        "   print(\"Hello\"+\" \"+\"World!\")"
      ],
      "metadata": {
        "colab": {
          "base_uri": "https://localhost:8080/"
        },
        "id": "Ej0i9oCN1MF9",
        "outputId": "f773aa29-1d1d-451c-86f1-ac2961842799"
      },
      "execution_count": null,
      "outputs": [
        {
          "output_type": "stream",
          "name": "stdout",
          "text": [
            "Hello World!\n"
          ]
        }
      ]
    },
    {
      "cell_type": "code",
      "source": [
        "prit(\"Hello world\")"
      ],
      "metadata": {
        "colab": {
          "base_uri": "https://localhost:8080/",
          "height": 141
        },
        "id": "Rz5rGjlW12Sc",
        "outputId": "71022dac-4fb7-4521-d034-bb9e5d5526c6"
      },
      "execution_count": null,
      "outputs": [
        {
          "output_type": "error",
          "ename": "NameError",
          "evalue": "name 'prit' is not defined",
          "traceback": [
            "\u001b[0;31m---------------------------------------------------------------------------\u001b[0m",
            "\u001b[0;31mNameError\u001b[0m                                 Traceback (most recent call last)",
            "\u001b[0;32m<ipython-input-9-0f978f620151>\u001b[0m in \u001b[0;36m<cell line: 1>\u001b[0;34m()\u001b[0m\n\u001b[0;32m----> 1\u001b[0;31m \u001b[0mprit\u001b[0m\u001b[0;34m(\u001b[0m\u001b[0;34m\"Hello world\"\u001b[0m\u001b[0;34m)\u001b[0m\u001b[0;34m\u001b[0m\u001b[0;34m\u001b[0m\u001b[0m\n\u001b[0m",
            "\u001b[0;31mNameError\u001b[0m: name 'prit' is not defined"
          ]
        }
      ]
    },
    {
      "cell_type": "code",
      "source": [
        " print('qwerty')"
      ],
      "metadata": {
        "colab": {
          "base_uri": "https://localhost:8080/"
        },
        "id": "Dpey6w3O17qE",
        "outputId": "574b34ab-391c-444a-ff22-defce3d42514"
      },
      "execution_count": null,
      "outputs": [
        {
          "output_type": "stream",
          "name": "stdout",
          "text": [
            "qwerty\n"
          ]
        }
      ]
    },
    {
      "cell_type": "markdown",
      "source": [
        "*Debugging Practice*\n",
        "\n",
        "---\n",
        "\n"
      ],
      "metadata": {
        "id": "94HoT75T2Yj3"
      }
    },
    {
      "cell_type": "code",
      "source": [
        "print(Day 1 - String Manipulation\")\n",
        "print(\"String Concatenation is done with \"+\" ssign.\")\n",
        "  print('e.g., print(\"Hello \" + \"world\")')\n",
        "print((\"New lines can be created with a backslash and n.\")"
      ],
      "metadata": {
        "colab": {
          "base_uri": "https://localhost:8080/",
          "height": 106
        },
        "id": "yyvdYmmz2gHf",
        "outputId": "1b0e6315-e1ff-4d12-a385-76d550631c31"
      },
      "execution_count": null,
      "outputs": [
        {
          "output_type": "error",
          "ename": "SyntaxError",
          "evalue": "unterminated string literal (detected at line 1) (<ipython-input-19-87df7e3869b8>, line 1)",
          "traceback": [
            "\u001b[0;36m  File \u001b[0;32m\"<ipython-input-19-87df7e3869b8>\"\u001b[0;36m, line \u001b[0;32m1\u001b[0m\n\u001b[0;31m    print(Day 1 - String Manipulation\")\u001b[0m\n\u001b[0m                                     ^\u001b[0m\n\u001b[0;31mSyntaxError\u001b[0m\u001b[0;31m:\u001b[0m unterminated string literal (detected at line 1)\n"
          ]
        }
      ]
    },
    {
      "cell_type": "code",
      "source": [
        "# 1. Missing double quotes before the word day.\n",
        "print(\"Day 1 - String Manipulation\")\n",
        "\n",
        "# 2.Outer double quotes changed to a single quotes.\n",
        "print('String Concatenation is done with the \"+\" sign.')\n",
        "\n",
        "# 3. Extra indentation removed\n",
        "print('e.g., print(\"Hello \" + \"world!\")')\n",
        "\n",
        "# 4. Extra ( in print function removed\n",
        "print(\"New lines can be created with a backslash and n.\")"
      ],
      "metadata": {
        "colab": {
          "base_uri": "https://localhost:8080/"
        },
        "id": "3dSxJe-s3G7R",
        "outputId": "9505d259-c95d-4e6f-aa8a-c8722e950148"
      },
      "execution_count": null,
      "outputs": [
        {
          "output_type": "stream",
          "name": "stdout",
          "text": [
            "Day 1 - String Manipulation\n",
            "String Concatenation is done with the \"+\" sign.\n",
            "e.g., print(\"Hello \" + \"world!\")\n",
            "New lines can be created with a backslash and n.\n"
          ]
        }
      ]
    },
    {
      "cell_type": "markdown",
      "source": [
        "*The Python Input Function*\n",
        "\n",
        "---\n",
        "\n",
        "input( )function\n",
        "    \n",
        "    input(\"A prompt for the user\")"
      ],
      "metadata": {
        "id": "etXUQTPC4e-v"
      }
    },
    {
      "cell_type": "code",
      "source": [
        "print(\"What is your name?\")"
      ],
      "metadata": {
        "colab": {
          "base_uri": "https://localhost:8080/"
        },
        "id": "ClMPmNyV4mPW",
        "outputId": "27304102-87cc-4b49-e161-ea59037b1835"
      },
      "execution_count": null,
      "outputs": [
        {
          "output_type": "stream",
          "name": "stdout",
          "text": [
            "What is your name?\n"
          ]
        }
      ]
    },
    {
      "cell_type": "code",
      "source": [
        "input(\"What is your name?\")"
      ],
      "metadata": {
        "colab": {
          "base_uri": "https://localhost:8080/",
          "height": 53
        },
        "id": "eVnTcrMr4uCD",
        "outputId": "679e6eda-8e89-4914-ed3c-681cc7fe949d"
      },
      "execution_count": null,
      "outputs": [
        {
          "name": "stdout",
          "output_type": "stream",
          "text": [
            "What is your name?Krishna\n"
          ]
        },
        {
          "output_type": "execute_result",
          "data": {
            "text/plain": [
              "'Krishna'"
            ],
            "application/vnd.google.colaboratory.intrinsic+json": {
              "type": "string"
            }
          },
          "metadata": {},
          "execution_count": 22
        }
      ]
    },
    {
      "cell_type": "code",
      "source": [
        "# input() will get input in console\n",
        "# Then print() will print the word  \"Hello\" and the user input\n",
        "print(\"Hello \" + input(\"What is your name?\"))"
      ],
      "metadata": {
        "colab": {
          "base_uri": "https://localhost:8080/"
        },
        "id": "_jRtZDpS5ec3",
        "outputId": "a64292ac-7b2b-43e0-b93d-7d0ff0f7f192"
      },
      "execution_count": null,
      "outputs": [
        {
          "output_type": "stream",
          "name": "stdout",
          "text": [
            "What is your name?Chintu\n",
            "Hello Chintu\n"
          ]
        }
      ]
    },
    {
      "cell_type": "markdown",
      "source": [
        "*Shortcut keys to comment for do and undo : ctrl+/ and ctrl+z*"
      ],
      "metadata": {
        "id": "V2swk8YC7xX_"
      }
    },
    {
      "cell_type": "markdown",
      "source": [
        "*Input Function*\n",
        "\n",
        "---\n",
        "\n"
      ],
      "metadata": {
        "id": "pZzGVjGf8Lk-"
      }
    },
    {
      "cell_type": "code",
      "source": [
        "print(input())\n",
        "print(input())\n",
        "print(input())\n",
        "print(input())\n",
        "print(input())"
      ],
      "metadata": {
        "colab": {
          "base_uri": "https://localhost:8080/"
        },
        "id": "H8cwzelV8UrJ",
        "outputId": "6af61c7d-5be3-45f8-949c-4d29d37ba157"
      },
      "execution_count": null,
      "outputs": [
        {
          "output_type": "stream",
          "name": "stdout",
          "text": [
            "Ram\n",
            "Ram\n",
            "Bharath\n",
            "Bharath\n",
            "Lakshman\n",
            "Lakshman\n",
            "Shatrugna\n",
            "Shatrugna\n",
            "Hanuman\n",
            "Hanuman\n"
          ]
        }
      ]
    },
    {
      "cell_type": "code",
      "source": [
        "num1 = int(input())\n",
        "num2 = int(input())\n",
        "\n",
        "print(num1 * num2)"
      ],
      "metadata": {
        "colab": {
          "base_uri": "https://localhost:8080/"
        },
        "id": "O3uh-YyS9amG",
        "outputId": "706b5da6-481d-48a2-d007-dd0e4dd66e56"
      },
      "execution_count": null,
      "outputs": [
        {
          "output_type": "stream",
          "name": "stdout",
          "text": [
            "2\n",
            "3\n",
            "6\n"
          ]
        }
      ]
    },
    {
      "cell_type": "code",
      "source": [
        "num1 = int(input())\n",
        "num2 = int(input())\n",
        "\n",
        "print(6)"
      ],
      "metadata": {
        "colab": {
          "base_uri": "https://localhost:8080/"
        },
        "id": "cND7Fz0T9wNN",
        "outputId": "f901b617-8671-45b6-bdb0-d8929d088972"
      },
      "execution_count": null,
      "outputs": [
        {
          "output_type": "stream",
          "name": "stdout",
          "text": [
            "5\n",
            "5\n",
            "6\n"
          ]
        }
      ]
    },
    {
      "cell_type": "code",
      "source": [
        "numOfLetters = len(\"Krishna\")\n",
        "print(numOfLetters)"
      ],
      "metadata": {
        "colab": {
          "base_uri": "https://localhost:8080/"
        },
        "id": "mKes0Fwe-LRu",
        "outputId": "27ebc36a-789e-4864-828c-ebcf77fbb820"
      },
      "execution_count": null,
      "outputs": [
        {
          "output_type": "stream",
          "name": "stdout",
          "text": [
            "7\n"
          ]
        }
      ]
    },
    {
      "cell_type": "code",
      "source": [
        "print(len(input()))"
      ],
      "metadata": {
        "colab": {
          "base_uri": "https://localhost:8080/"
        },
        "id": "OMeM3hHR-ie6",
        "outputId": "2d4eba59-e36f-40d4-b2da-401c481b2796"
      },
      "execution_count": null,
      "outputs": [
        {
          "output_type": "stream",
          "name": "stdout",
          "text": [
            "Rishi\n",
            "5\n"
          ]
        }
      ]
    },
    {
      "cell_type": "markdown",
      "source": [
        "*Python Variables*\n",
        "\n",
        "---\n",
        "\n",
        "*Variable*  \n",
        "\n",
        "      Krishna = 012345"
      ],
      "metadata": {
        "id": "wisgtGwV_Ya4"
      }
    },
    {
      "cell_type": "code",
      "source": [
        "name = input(\"What is your name?\")\n",
        "print(name)"
      ],
      "metadata": {
        "colab": {
          "base_uri": "https://localhost:8080/"
        },
        "id": "Wjh_09aW_bPL",
        "outputId": "a63c70e4-4e45-4bd0-b07b-294493a50e3b"
      },
      "execution_count": null,
      "outputs": [
        {
          "output_type": "stream",
          "name": "stdout",
          "text": [
            "What is your name?Jhansi\n",
            "Jhansi\n"
          ]
        }
      ]
    },
    {
      "cell_type": "code",
      "source": [
        "name = \"Radha\"\n",
        "print(name)\n",
        "\n",
        "name = \"Krishna\"\n",
        "print(name)\n",
        "\n",
        "print(len(input(\"What is your name?\")))"
      ],
      "metadata": {
        "colab": {
          "base_uri": "https://localhost:8080/"
        },
        "id": "eluMDlwO_tJs",
        "outputId": "72ac7000-98d2-4c27-cc9c-ef06ba377ea3"
      },
      "execution_count": null,
      "outputs": [
        {
          "output_type": "stream",
          "name": "stdout",
          "text": [
            "Radha\n",
            "Krishna\n",
            "What is your name?Lakshmi Bhai\n",
            "12\n"
          ]
        }
      ]
    },
    {
      "cell_type": "code",
      "source": [
        "name = input(\"What is your name?\")\n",
        "length = len(name)\n",
        "print(length)"
      ],
      "metadata": {
        "colab": {
          "base_uri": "https://localhost:8080/"
        },
        "id": "RwPbeZ4FA4KW",
        "outputId": "678460d2-aae9-4419-cdb4-fb2d3812280b"
      },
      "execution_count": null,
      "outputs": [
        {
          "output_type": "stream",
          "name": "stdout",
          "text": [
            "What is your name?Gopal\n",
            "5\n"
          ]
        }
      ]
    },
    {
      "cell_type": "markdown",
      "source": [
        "*Variables*\n",
        "\n",
        "---\n",
        "\n"
      ],
      "metadata": {
        "id": "o-DivXXcBRSg"
      }
    },
    {
      "cell_type": "code",
      "source": [
        "# There are two variables, a and b from input\n",
        "a = input()\n",
        "b = input()\n",
        "# Write your code below this line\n",
        "c = a\n",
        "a = b\n",
        "b = c\n",
        "# Write your code above this line\n",
        "print(\"a: \"+ a), print(\"b: \"+ b);"
      ],
      "metadata": {
        "colab": {
          "base_uri": "https://localhost:8080/"
        },
        "id": "FfgmUsIvBThe",
        "outputId": "a01fc87b-a228-47b2-badd-58f0f257e86c"
      },
      "execution_count": null,
      "outputs": [
        {
          "output_type": "stream",
          "name": "stdout",
          "text": [
            "29\n",
            "41\n",
            "a: 41\n",
            "b: 29\n"
          ]
        }
      ]
    },
    {
      "cell_type": "code",
      "source": [
        "# There are two variables, a and b from input\n",
        "a = input()\n",
        "b = input()\n",
        "# Create a third variable to help switch the value\n",
        "c = a\n",
        "a = b\n",
        "b = c\n",
        "print(\"a: \" + a), print(\"b: \" + b);"
      ],
      "metadata": {
        "colab": {
          "base_uri": "https://localhost:8080/"
        },
        "id": "AozMKlgWCatO",
        "outputId": "11419d7d-3560-4825-8f5e-fe3b979d7cf7"
      },
      "execution_count": null,
      "outputs": [
        {
          "output_type": "stream",
          "name": "stdout",
          "text": [
            "Assembly\n",
            "Basic\n",
            "a: Basic\n",
            "b: Assembly\n"
          ]
        }
      ]
    },
    {
      "cell_type": "markdown",
      "source": [
        "*Variable Naming*\n",
        "\n",
        "---\n",
        "\n"
      ],
      "metadata": {
        "id": "EpqZZkCZC8Wt"
      }
    },
    {
      "cell_type": "code",
      "source": [
        "n = input(\"What is your name?\")\n",
        "l = len(n)\n",
        "print(l)"
      ],
      "metadata": {
        "colab": {
          "base_uri": "https://localhost:8080/"
        },
        "id": "vwzyHBdUC-vg",
        "outputId": "ed3f7150-afb1-4036-fa3b-bbbbe0cd468e"
      },
      "execution_count": null,
      "outputs": [
        {
          "output_type": "stream",
          "name": "stdout",
          "text": [
            "What is your name?Maruthi\n",
            "7\n"
          ]
        }
      ]
    },
    {
      "cell_type": "code",
      "source": [
        "User name = input(\"What is your name?\")"
      ],
      "metadata": {
        "colab": {
          "base_uri": "https://localhost:8080/",
          "height": 106
        },
        "id": "DCS8DUsjDa6Q",
        "outputId": "efeeaa35-f292-42e1-9e3f-1a5817aa14ad"
      },
      "execution_count": null,
      "outputs": [
        {
          "output_type": "error",
          "ename": "SyntaxError",
          "evalue": "invalid syntax (<ipython-input-36-85bd66be5a22>, line 1)",
          "traceback": [
            "\u001b[0;36m  File \u001b[0;32m\"<ipython-input-36-85bd66be5a22>\"\u001b[0;36m, line \u001b[0;32m1\u001b[0m\n\u001b[0;31m    User name = input(\"What is your name?\")\u001b[0m\n\u001b[0m         ^\u001b[0m\n\u001b[0;31mSyntaxError\u001b[0m\u001b[0;31m:\u001b[0m invalid syntax\n"
          ]
        }
      ]
    },
    {
      "cell_type": "code",
      "source": [
        "input = input(\"What is your name?\")"
      ],
      "metadata": {
        "colab": {
          "base_uri": "https://localhost:8080/"
        },
        "id": "P8mvcLA6DjbP",
        "outputId": "96c3e128-779e-489b-ea58-11ce7bb3c3ba"
      },
      "execution_count": null,
      "outputs": [
        {
          "name": "stdout",
          "output_type": "stream",
          "text": [
            "What is your name?Ganesh\n"
          ]
        }
      ]
    },
    {
      "cell_type": "code",
      "source": [
        "user_name = input(\"What is your name?\")"
      ],
      "metadata": {
        "colab": {
          "base_uri": "https://localhost:8080/",
          "height": 141
        },
        "id": "fy-QoQXKD0fR",
        "outputId": "e4a75267-0923-49e9-984d-2d084856e417"
      },
      "execution_count": null,
      "outputs": [
        {
          "output_type": "error",
          "ename": "TypeError",
          "evalue": "'str' object is not callable",
          "traceback": [
            "\u001b[0;31m---------------------------------------------------------------------------\u001b[0m",
            "\u001b[0;31mTypeError\u001b[0m                                 Traceback (most recent call last)",
            "\u001b[0;32m<ipython-input-38-9e7e1167e9dc>\u001b[0m in \u001b[0;36m<cell line: 1>\u001b[0;34m()\u001b[0m\n\u001b[0;32m----> 1\u001b[0;31m \u001b[0muser_name\u001b[0m \u001b[0;34m=\u001b[0m \u001b[0minput\u001b[0m\u001b[0;34m(\u001b[0m\u001b[0;34m\"What is your name?\"\u001b[0m\u001b[0;34m)\u001b[0m\u001b[0;34m\u001b[0m\u001b[0;34m\u001b[0m\u001b[0m\n\u001b[0m",
            "\u001b[0;31mTypeError\u001b[0m: 'str' object is not callable"
          ]
        }
      ]
    },
    {
      "cell_type": "code",
      "source": [
        "name = \"Arjun\"\n",
        "print(nama)"
      ],
      "metadata": {
        "colab": {
          "base_uri": "https://localhost:8080/",
          "height": 158
        },
        "id": "a2PHEEAnEJkd",
        "outputId": "b676322b-91d5-484e-a2b0-d12cb5c7b64e"
      },
      "execution_count": null,
      "outputs": [
        {
          "output_type": "error",
          "ename": "NameError",
          "evalue": "name 'nama' is not defined",
          "traceback": [
            "\u001b[0;31m---------------------------------------------------------------------------\u001b[0m",
            "\u001b[0;31mNameError\u001b[0m                                 Traceback (most recent call last)",
            "\u001b[0;32m<ipython-input-39-a0fca49ba209>\u001b[0m in \u001b[0;36m<cell line: 2>\u001b[0;34m()\u001b[0m\n\u001b[1;32m      1\u001b[0m \u001b[0mname\u001b[0m \u001b[0;34m=\u001b[0m \u001b[0;34m\"Arjun\"\u001b[0m\u001b[0;34m\u001b[0m\u001b[0;34m\u001b[0m\u001b[0m\n\u001b[0;32m----> 2\u001b[0;31m \u001b[0mprint\u001b[0m\u001b[0;34m(\u001b[0m\u001b[0mnama\u001b[0m\u001b[0;34m)\u001b[0m\u001b[0;34m\u001b[0m\u001b[0;34m\u001b[0m\u001b[0m\n\u001b[0m",
            "\u001b[0;31mNameError\u001b[0m: name 'nama' is not defined"
          ]
        }
      ]
    },
    {
      "cell_type": "markdown",
      "source": [
        "**Project :** *Band Name Generator*"
      ],
      "metadata": {
        "id": "dHm91rRuEgVs"
      }
    },
    {
      "cell_type": "code",
      "source": [
        "# 1. Create  a greeting for your program.\n",
        "print(\"Welcome to the band name generator.\")\n",
        "\n",
        "# 2. Ask the user for the city that they grew up in.\n",
        "city = input(\"Which city did you grow up in?\\n\")\n",
        "\n",
        "# 3.Ask the user for the name of a pet.\n",
        "pet = input(\"What is the name of a pet?\\n\")\n",
        "\n",
        "# 4.Combine the name of their city and pet and show thier band name.\n",
        "print(\"Your band name could be \" + city + \" \"+ pet)"
      ],
      "metadata": {
        "id": "kYFGUY6QKAH2"
      },
      "execution_count": null,
      "outputs": []
    }
  ]
}