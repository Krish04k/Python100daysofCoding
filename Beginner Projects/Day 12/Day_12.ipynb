{
  "nbformat": 4,
  "nbformat_minor": 0,
  "metadata": {
    "colab": {
      "provenance": []
    },
    "kernelspec": {
      "name": "python3",
      "display_name": "Python 3"
    },
    "language_info": {
      "name": "python"
    }
  },
  "cells": [
    {
      "cell_type": "markdown",
      "source": [
        "\n",
        "---\n",
        "# **Day 12 📅**\n",
        "\n",
        "\n",
        "---\n",
        "*Scope & Number Guessing Game*\n",
        "\n",
        "---\n",
        "\n",
        "**Namespaces:**\n",
        "\n",
        "\n",
        "---\n",
        "*Local Versus. Global Scope*\n",
        "\n",
        "---\n",
        "\n",
        "\n"
      ],
      "metadata": {
        "id": "wjdSvgvhtLwk"
      }
    },
    {
      "cell_type": "code",
      "execution_count": null,
      "metadata": {
        "colab": {
          "base_uri": "https://localhost:8080/"
        },
        "id": "GYtuHwzjtG0P",
        "outputId": "41c54c1f-fd64-43fc-9f0e-9ec605b427a7"
      },
      "outputs": [
        {
          "output_type": "stream",
          "name": "stdout",
          "text": [
            "enemies inside function: 2\n",
            "enemies outside function: 1\n"
          ]
        }
      ],
      "source": [
        "# Scope\n",
        "\n",
        "enemies = 1\n",
        "\n",
        "def increase_enemies():\n",
        "  enemies = 2\n",
        "  print(f\"enemies inside function: {enemies}\")\n",
        "\n",
        "increase_enemies()\n",
        "print(f\"enemies outside function: {enemies}\")"
      ]
    },
    {
      "cell_type": "code",
      "source": [
        "# Local Scope\n",
        "\n",
        "def drink_potion():\n",
        "  potion_strength = 2\n",
        "  print(potion_strength) # clearly i've defined it here\n",
        "\n",
        "drink_potion()"
      ],
      "metadata": {
        "colab": {
          "base_uri": "https://localhost:8080/"
        },
        "id": "pr3QATKNu1r8",
        "outputId": "703b5fda-466f-4a5f-9374-9f6e18b697a9"
      },
      "execution_count": null,
      "outputs": [
        {
          "output_type": "stream",
          "name": "stdout",
          "text": [
            "2\n"
          ]
        }
      ]
    },
    {
      "cell_type": "code",
      "source": [
        "print(potion_strength)"
      ],
      "metadata": {
        "colab": {
          "base_uri": "https://localhost:8080/",
          "height": 141
        },
        "id": "RMZd2BRAvNNt",
        "outputId": "e90171a4-e224-4543-80de-4f28cea79b0b"
      },
      "execution_count": null,
      "outputs": [
        {
          "output_type": "error",
          "ename": "NameError",
          "evalue": "name 'potion_strength' is not defined",
          "traceback": [
            "\u001b[0;31m---------------------------------------------------------------------------\u001b[0m",
            "\u001b[0;31mNameError\u001b[0m                                 Traceback (most recent call last)",
            "\u001b[0;32m<ipython-input-3-8e0d41e666ef>\u001b[0m in \u001b[0;36m<cell line: 1>\u001b[0;34m()\u001b[0m\n\u001b[0;32m----> 1\u001b[0;31m \u001b[0mprint\u001b[0m\u001b[0;34m(\u001b[0m\u001b[0mpotion_strength\u001b[0m\u001b[0;34m)\u001b[0m\u001b[0;34m\u001b[0m\u001b[0;34m\u001b[0m\u001b[0m\n\u001b[0m",
            "\u001b[0;31mNameError\u001b[0m: name 'potion_strength' is not defined"
          ]
        }
      ]
    },
    {
      "cell_type": "markdown",
      "source": [
        "\n",
        "\n",
        "---\n",
        "*Why can't i access it outside the function? 🤔*\n",
        "\n",
        "---\n",
        "\n",
        "\n",
        "\n",
        "*Well this goes backs to the concept of* **Local Scope**\n",
        "\n",
        "---\n",
        "*When you create a* **New variable** or **indeed a new function inside another function,**\n",
        "\n",
        "---\n",
        "    def drink_potion():\n",
        "        potion_strength = 2   --> variable\n",
        "        print(potion_strength) --> function\n",
        "\n",
        "\n",
        "---\n",
        "\n",
        "\n",
        " *it's only accessible,you can only use it when you're inside that function because it has* **Local Scope**\n",
        "\n",
        "---\n",
        "*What if we wanted it to be accessible outside the function?*\n",
        "\n",
        "---\n",
        "*Well now we need to think about something called* **Global Scope**\n",
        "\n",
        "---\n",
        "*The only difference between* **Global Scope** and **Local Scope** *is where you define or where you create your variable or your functions.*\n",
        "\n",
        "---\n",
        "\n",
        "\n",
        "\n",
        "\n"
      ],
      "metadata": {
        "id": "PmmwsZx2vp1x"
      }
    },
    {
      "cell_type": "code",
      "source": [
        "# Global Scope\n",
        "\n",
        "player_health = 10  # this has a global scope i.e., global variable\n",
        "\n",
        "def drink_potion():\n",
        "  potion_strength = 2 # this has a local scope i.e., local variable\n",
        "  print(player_health)\n",
        "\n",
        "drink_potion()"
      ],
      "metadata": {
        "colab": {
          "base_uri": "https://localhost:8080/"
        },
        "id": "O1V3eY3mycIu",
        "outputId": "8a19dfb6-5318-43a0-dcc1-a158e8feba3d"
      },
      "execution_count": null,
      "outputs": [
        {
          "output_type": "stream",
          "name": "stdout",
          "text": [
            "10\n"
          ]
        }
      ]
    },
    {
      "cell_type": "code",
      "source": [
        "print(player_health)"
      ],
      "metadata": {
        "colab": {
          "base_uri": "https://localhost:8080/"
        },
        "id": "ISSaIbdhzTzG",
        "outputId": "42776c19-3e5b-45ce-fd6d-cf4968f41848"
      },
      "execution_count": null,
      "outputs": [
        {
          "output_type": "stream",
          "name": "stdout",
          "text": [
            "10\n"
          ]
        }
      ]
    },
    {
      "cell_type": "markdown",
      "source": [
        "\n",
        "\n",
        "---\n",
        "\n",
        "*This concept of global and local scope doesn't apply to variables. it also applies to functions and basically anything else you name. this concept called the* **Namespace.*\n",
        "\n",
        "---\n",
        "\n",
        "*So we defined this variable player_health*\n",
        "\n",
        "---\n",
        "    player_health = 10\n",
        "\n",
        "---\n",
        "*We define this function drink_potion*\n",
        "\n",
        "---\n",
        "    def drink_potion():\n",
        "        potion_strength = 2\n",
        "        print(player_health)\n",
        "\n",
        "    drink_potion()\n",
        "\n",
        "---\n",
        "*Anything that you give a name to has a namespace and that namespace is valid in certain scopes.*\n",
        "\n",
        "---\n",
        "*This concept of scope applies to basically anything you name.*\n",
        "\n",
        "\n",
        "---\n",
        "\n",
        "\n"
      ],
      "metadata": {
        "id": "FInGqRiD0KKw"
      }
    },
    {
      "cell_type": "markdown",
      "source": [
        "\n",
        "\n",
        "---\n",
        "*If i was to nest the function drink_potion inside another function, let's call it game. Well, now this*\n",
        "\n",
        "---\n",
        "    def drink_potion():\n",
        "\n",
        "---\n",
        "\n",
        "*now has local scope within the function game.*\n",
        "\n",
        "\n",
        "---\n",
        "\n",
        "     def game():\n",
        "\n",
        "\n",
        "\n",
        "---\n",
        "*So this is why this line is now erroring out because it can't actually see inside.*\n",
        "\n",
        "---\n",
        "    drink_potion()\n",
        "\n",
        "---\n",
        "\n",
        "\n",
        "\n"
      ],
      "metadata": {
        "id": "JLWu0sHTVxFI"
      }
    },
    {
      "cell_type": "code",
      "source": [
        "# Global Scope\n",
        "\n",
        "player_health = 10\n",
        "\n",
        "def game():\n",
        "  def drink_potion():\n",
        "    potion_strength = 2\n",
        "    print(player_health)\n",
        "\n",
        "drink_potion()\n",
        "print(player_health)"
      ],
      "metadata": {
        "colab": {
          "base_uri": "https://localhost:8080/",
          "height": 193
        },
        "id": "VZg9vtog2Ntu",
        "outputId": "9b969851-f0fc-486c-bfe0-3a46abdbbe94"
      },
      "execution_count": null,
      "outputs": [
        {
          "output_type": "error",
          "ename": "NameError",
          "evalue": "name 'drink_potion' is not defined",
          "traceback": [
            "\u001b[0;31m---------------------------------------------------------------------------\u001b[0m",
            "\u001b[0;31mNameError\u001b[0m                                 Traceback (most recent call last)",
            "\u001b[0;32m<ipython-input-4-155a291e1903>\u001b[0m in \u001b[0;36m<cell line: 10>\u001b[0;34m()\u001b[0m\n\u001b[1;32m      8\u001b[0m     \u001b[0mprint\u001b[0m\u001b[0;34m(\u001b[0m\u001b[0mplayer_health\u001b[0m\u001b[0;34m)\u001b[0m\u001b[0;34m\u001b[0m\u001b[0;34m\u001b[0m\u001b[0m\n\u001b[1;32m      9\u001b[0m \u001b[0;34m\u001b[0m\u001b[0m\n\u001b[0;32m---> 10\u001b[0;31m \u001b[0mdrink_potion\u001b[0m\u001b[0;34m(\u001b[0m\u001b[0;34m)\u001b[0m\u001b[0;34m\u001b[0m\u001b[0;34m\u001b[0m\u001b[0m\n\u001b[0m\u001b[1;32m     11\u001b[0m \u001b[0mprint\u001b[0m\u001b[0;34m(\u001b[0m\u001b[0mplayer_health\u001b[0m\u001b[0;34m)\u001b[0m\u001b[0;34m\u001b[0m\u001b[0;34m\u001b[0m\u001b[0m\n",
            "\u001b[0;31mNameError\u001b[0m: name 'drink_potion' is not defined"
          ]
        }
      ]
    },
    {
      "cell_type": "markdown",
      "source": [
        "\n",
        "\n",
        "---\n",
        "*In order to call this function i've to be within the four walls of the game function.*\n",
        "\n",
        "---\n",
        "\n",
        "\n"
      ],
      "metadata": {
        "id": "FlDgdDIUXtHR"
      }
    },
    {
      "cell_type": "code",
      "source": [
        "player_health = 10\n",
        "\n",
        "def game():\n",
        "  def drink_potion():\n",
        "    potion_strength = 2\n",
        "    print(player_health)\n",
        "  drink_potion()\n",
        "\n",
        "print(player_health)"
      ],
      "metadata": {
        "colab": {
          "base_uri": "https://localhost:8080/"
        },
        "id": "NLiTdmvg3Fn7",
        "outputId": "ee05195a-7ef7-416e-d2bb-724bfd8c7179"
      },
      "execution_count": null,
      "outputs": [
        {
          "output_type": "stream",
          "name": "stdout",
          "text": [
            "10\n"
          ]
        }
      ]
    },
    {
      "cell_type": "markdown",
      "source": [
        "\n",
        "\n",
        "---\n",
        "*So whenever you give name to anything, a function or a variable, you've to be aware of where you created it.*\n",
        "\n",
        "---\n",
        "*Now it's easy to notice where you've created function, we have the def keyword, right?*\n",
        "\n",
        "\n",
        "---\n",
        "     def game():\n",
        "\n",
        "\n",
        "---\n",
        "*But when you creat a variable that's the first time that you give it a name and you set it equal to something.*\n",
        "\n",
        "---\n",
        "    player_health = 10\n",
        "\n",
        "---\n",
        "*And where you write that line of code defines the* **Scope** *of that particular variable. Here it's outside of every other function*\n",
        "\n",
        "---\n",
        "    potion_strength = 2\n",
        "\n",
        "---\n",
        "*Whereas here it's inside a function actually nested two levels deep. So it has a local scope to this function.\n",
        "\n",
        "---\n",
        "    def drink_potion():\n",
        "        potion_strength = 2\n",
        "        print(player_health)\n",
        "\n",
        "---\n",
        "\n",
        "\n",
        "\n",
        "\n",
        "\n",
        "\n",
        "\n",
        "\n"
      ],
      "metadata": {
        "id": "DPvgzLr-YCbr"
      }
    },
    {
      "cell_type": "markdown",
      "source": [
        "\n",
        "\n",
        "---\n",
        "*Does Python have Block Scope?*\n",
        "\n",
        "---\n",
        "*Now unlike some other programming languages, if you've come from say c++ or Java, There is no such thing as* **block scope** *in Python.*\n",
        "\n",
        "---\n",
        "*What is this means is that you were to creat an if statement*\n",
        "\n",
        "---\n",
        "    if 3 > 2:\n",
        "      a_variable = 10\n",
        "\n",
        "---\n",
        "\n",
        "*and if you were to create a new variable inside an if block or a while loop or a for loop, basically any sort of code that's indented, this doesn't count as offence.*\n",
        "\n",
        "---\n",
        "*It still has the same scope as its enclosing function, or if there is no enclosing function then it has global scope.*\n",
        "\n",
        "---\n",
        "\n",
        "\n",
        "\n",
        "      \n",
        "\n",
        "\n",
        "\n"
      ],
      "metadata": {
        "id": "4qb89lJIaDST"
      }
    },
    {
      "cell_type": "code",
      "source": [
        "# There is no Block Scope\n",
        "\n",
        "game_level = 3\n",
        "enemies = [\"Skeleton\", \"Zombie\", \"Alien\"]\n",
        "if game_level < 5:\n",
        "  new_enemy = enemies[0]\n",
        "\n",
        "print(new_enemy)"
      ],
      "metadata": {
        "colab": {
          "base_uri": "https://localhost:8080/"
        },
        "id": "cIMP75fWbCeF",
        "outputId": "60de502c-1ba9-47d2-b1c3-bc66ac8cac76"
      },
      "execution_count": null,
      "outputs": [
        {
          "output_type": "stream",
          "name": "stdout",
          "text": [
            "Skeleton\n"
          ]
        }
      ]
    },
    {
      "cell_type": "markdown",
      "source": [
        "\n",
        "---\n",
        "*Look above for a full example. Let's say we had a list of enemies, so the enemies could be skeleton 💀, zombies 🧟, or aliens 👽. So now, if i was to define a game level, right? Like the level that user is currently playing at let's say they're on level 3.*\n",
        "\n",
        "\n",
        "---\n",
        "*And i create an if statement and i check if the game_level is less tha level 5, well, in that case, i want to create a new enemy, but i don't want the enemy to be too difficult to beat. So im gonna pick from the list of enemies and im going to pick the first one.*\n",
        "\n",
        "---\n",
        "*Notice how even though this new enemy is a variable that's created within this if block, if i go outside the if block, so i'm not indented at all anymore, and i try to print this new enemy this is perfectly valid code.*\n",
        "\n",
        "---\n",
        "\n",
        "\n",
        "\n",
        "\n",
        "\n",
        "\n"
      ],
      "metadata": {
        "id": "MA6lpITidQgQ"
      }
    },
    {
      "cell_type": "code",
      "source": [
        "# There is no Block Scope\n",
        "\n",
        "game_level = 3\n",
        "\n",
        "def create_enemy():\n",
        "  enemies = [\"Skeleton\", \"Zombie\", \"Alien\"]\n",
        "  if game_level < 5:\n",
        "    new_enemy = enemies[2]\n",
        "\n",
        "print(new_enemy)"
      ],
      "metadata": {
        "colab": {
          "base_uri": "https://localhost:8080/"
        },
        "id": "9f77Zn43fmB8",
        "outputId": "8c2e6979-bdcc-4c55-a22b-6e0aa8d77e80"
      },
      "execution_count": null,
      "outputs": [
        {
          "output_type": "stream",
          "name": "stdout",
          "text": [
            "Skeleton\n"
          ]
        }
      ]
    },
    {
      "cell_type": "markdown",
      "source": [
        "\n",
        "\n",
        "---\n",
        "*But notice how as soon as i embed this within a function*\n",
        "\n",
        "---\n",
        "\n",
        "\n"
      ],
      "metadata": {
        "id": "BNHhZ4n0foa-"
      }
    },
    {
      "cell_type": "markdown",
      "source": [
        "\n",
        "\n",
        "---\n",
        "*And now this line error is out because within the function there is local scope so now this new enemy is available anywhere within this function because block like if, while, for, all of these blocks of code with colons and indentation, they don't count as creating a local scope.*\n",
        "\n",
        "---\n",
        "\n",
        "\n"
      ],
      "metadata": {
        "id": "3q3yzcfPhr8Q"
      }
    },
    {
      "cell_type": "code",
      "source": [
        "# There is no Block Scope\n",
        "\n",
        "game_level = 3\n",
        "\n",
        "def create_enemy():\n",
        "  enemies = [\"Skeleton\", \"Zombie\", \"Alien\"]\n",
        "  if game_level < 5:\n",
        "    new_enemy = enemies[2]\n",
        "\n",
        "  print(new_enemy)\n",
        "\n",
        "create_enemy()"
      ],
      "metadata": {
        "colab": {
          "base_uri": "https://localhost:8080/"
        },
        "id": "gpORnMpahcWL",
        "outputId": "74d6680b-700e-469d-88b6-96ee1826887c"
      },
      "execution_count": null,
      "outputs": [
        {
          "output_type": "stream",
          "name": "stdout",
          "text": [
            "Alien\n"
          ]
        }
      ]
    },
    {
      "cell_type": "markdown",
      "source": [
        "\n",
        "\n",
        "---\n",
        "*So in order to print this new enemy, i actually have to be within the boundary of this function*\n",
        "\n",
        "---\n",
        "*The most important thing to remember from this is if you create a variable within a function, then it's only available within that function.*\n",
        "\n",
        "---\n",
        "\n",
        "\n",
        "\n"
      ],
      "metadata": {
        "id": "6eS5x5V-jDFx"
      }
    },
    {
      "cell_type": "markdown",
      "source": [
        "\n",
        "\n",
        "---\n",
        "*but if you create a variable within an if block or a while loop or a for loop or\n",
        "anything that has the indentation and the colon, then that does not count as creating a seperate local scope.*\n",
        "\n",
        "---\n",
        "\n",
        "\n"
      ],
      "metadata": {
        "id": "7hnv6Y1tj3YN"
      }
    },
    {
      "cell_type": "markdown",
      "source": [
        "\n",
        "\n",
        "---\n",
        "\n",
        "*How to Modify a Global Variable*\n",
        "\n",
        "---\n",
        "\n"
      ],
      "metadata": {
        "id": "9vZrgdi-kX29"
      }
    },
    {
      "cell_type": "code",
      "source": [
        "# Modifying Global Scope\n",
        "\n",
        "enemies = 1\n",
        "\n",
        "def increase_enemies():\n",
        "  enemies = 2\n",
        "  print(f\"enemies inside function: {enemies}\")\n",
        "\n",
        "increase_enemies()\n",
        "print(f\"enemies outside function: {enemies}\")"
      ],
      "metadata": {
        "colab": {
          "base_uri": "https://localhost:8080/"
        },
        "id": "-PbIRO-gkgQZ",
        "outputId": "a370c788-25f6-4ec2-a28c-9ffec3fb9f40"
      },
      "execution_count": null,
      "outputs": [
        {
          "output_type": "stream",
          "name": "stdout",
          "text": [
            "enemies inside function: 2\n",
            "enemies outside function: 1\n"
          ]
        }
      ]
    },
    {
      "cell_type": "code",
      "source": [
        "# Modifying Global Scope\n",
        "\n",
        "enemies = \"Skeleton\" # Global variable\n",
        "\n",
        "def increase_enemies():\n",
        "  enemies = \"Zombie\" # Local variable\n",
        "  print(f\"enemies inside function: {enemies}\")\n",
        "\n",
        "increase_enemies()\n",
        "print(f\"enemies outside function: {enemies}\")"
      ],
      "metadata": {
        "colab": {
          "base_uri": "https://localhost:8080/"
        },
        "id": "KwgxUA_jlO1F",
        "outputId": "9904ff94-b6e3-46ac-863c-8f26094328eb"
      },
      "execution_count": null,
      "outputs": [
        {
          "output_type": "stream",
          "name": "stdout",
          "text": [
            "enemies inside function: Zombie\n",
            "enemies outside function: Skeleton\n"
          ]
        }
      ]
    },
    {
      "cell_type": "code",
      "source": [
        "# Modifying Global Scope\n",
        "\n",
        "enemies = 1\n",
        "\n",
        "def increase_enemies():\n",
        "  enemies += 1\n",
        "  print(f\"enemies inside function: {enemies}\")\n",
        "\n",
        "increase_enemies()\n",
        "print(f\"enemies outside function: {enemies}\")"
      ],
      "metadata": {
        "colab": {
          "base_uri": "https://localhost:8080/",
          "height": 315
        },
        "id": "HYzvjF0Clt2l",
        "outputId": "a61ee8fb-b34c-4255-f433-819d0f8a35af"
      },
      "execution_count": null,
      "outputs": [
        {
          "output_type": "error",
          "ename": "UnboundLocalError",
          "evalue": "local variable 'enemies' referenced before assignment",
          "traceback": [
            "\u001b[0;31m---------------------------------------------------------------------------\u001b[0m",
            "\u001b[0;31mUnboundLocalError\u001b[0m                         Traceback (most recent call last)",
            "\u001b[0;32m<ipython-input-16-1475c9a8c415>\u001b[0m in \u001b[0;36m<cell line: 9>\u001b[0;34m()\u001b[0m\n\u001b[1;32m      7\u001b[0m   \u001b[0mprint\u001b[0m\u001b[0;34m(\u001b[0m\u001b[0;34mf\"enemies inside function: {enemies}\"\u001b[0m\u001b[0;34m)\u001b[0m\u001b[0;34m\u001b[0m\u001b[0;34m\u001b[0m\u001b[0m\n\u001b[1;32m      8\u001b[0m \u001b[0;34m\u001b[0m\u001b[0m\n\u001b[0;32m----> 9\u001b[0;31m \u001b[0mincrease_enemies\u001b[0m\u001b[0;34m(\u001b[0m\u001b[0;34m)\u001b[0m\u001b[0;34m\u001b[0m\u001b[0;34m\u001b[0m\u001b[0m\n\u001b[0m\u001b[1;32m     10\u001b[0m \u001b[0mprint\u001b[0m\u001b[0;34m(\u001b[0m\u001b[0;34mf\"enemies outside function: {enemies}\"\u001b[0m\u001b[0;34m)\u001b[0m\u001b[0;34m\u001b[0m\u001b[0;34m\u001b[0m\u001b[0m\n",
            "\u001b[0;32m<ipython-input-16-1475c9a8c415>\u001b[0m in \u001b[0;36mincrease_enemies\u001b[0;34m()\u001b[0m\n\u001b[1;32m      4\u001b[0m \u001b[0;34m\u001b[0m\u001b[0m\n\u001b[1;32m      5\u001b[0m \u001b[0;32mdef\u001b[0m \u001b[0mincrease_enemies\u001b[0m\u001b[0;34m(\u001b[0m\u001b[0;34m)\u001b[0m\u001b[0;34m:\u001b[0m\u001b[0;34m\u001b[0m\u001b[0;34m\u001b[0m\u001b[0m\n\u001b[0;32m----> 6\u001b[0;31m   \u001b[0menemies\u001b[0m \u001b[0;34m+=\u001b[0m \u001b[0;36m1\u001b[0m\u001b[0;34m\u001b[0m\u001b[0;34m\u001b[0m\u001b[0m\n\u001b[0m\u001b[1;32m      7\u001b[0m   \u001b[0mprint\u001b[0m\u001b[0;34m(\u001b[0m\u001b[0;34mf\"enemies inside function: {enemies}\"\u001b[0m\u001b[0;34m)\u001b[0m\u001b[0;34m\u001b[0m\u001b[0;34m\u001b[0m\u001b[0m\n\u001b[1;32m      8\u001b[0m \u001b[0;34m\u001b[0m\u001b[0m\n",
            "\u001b[0;31mUnboundLocalError\u001b[0m: local variable 'enemies' referenced before assignment"
          ]
        }
      ]
    },
    {
      "cell_type": "code",
      "source": [
        "# Modifying Global Scope\n",
        "\n",
        "enemies = 1\n",
        "\n",
        "def increase_enemies():\n",
        "  global enemies\n",
        "  enemies += 1\n",
        "  print(f\"enemies inside function: {enemies}\")\n",
        "\n",
        "increase_enemies()\n",
        "print(f\"enemies outside function: {enemies}\")"
      ],
      "metadata": {
        "colab": {
          "base_uri": "https://localhost:8080/"
        },
        "id": "-Gu53IcLmMWx",
        "outputId": "2ef5fe32-f32e-40f6-8cb4-d5db96fcbbdc"
      },
      "execution_count": null,
      "outputs": [
        {
          "output_type": "stream",
          "name": "stdout",
          "text": [
            "enemies inside function: 2\n",
            "enemies outside function: 2\n"
          ]
        }
      ]
    },
    {
      "cell_type": "code",
      "source": [
        "# Modifying Global Scope\n",
        "\n",
        "enemies = 1\n",
        "\n",
        "def increase_enemies():\n",
        "  print(f\"enemies inside function: {enemies}\")\n",
        "  return enemies + 1\n",
        "\n",
        "increase_enemies()\n",
        "print(f\"enemies outside function: {enemies}\")"
      ],
      "metadata": {
        "colab": {
          "base_uri": "https://localhost:8080/"
        },
        "id": "RezxcOnNmvie",
        "outputId": "4e1e12dc-c71b-4ebb-8998-1953d73eeaa4"
      },
      "execution_count": null,
      "outputs": [
        {
          "output_type": "stream",
          "name": "stdout",
          "text": [
            "enemies inside function: 1\n",
            "enemies outside function: 1\n"
          ]
        }
      ]
    },
    {
      "cell_type": "code",
      "source": [
        "# Modifying Global Scope\n",
        "\n",
        "enemies = 1\n",
        "\n",
        "def increase_enemies():\n",
        "  print(f\"enemies inside function: {enemies}\")\n",
        "  return enemies + 1\n",
        "\n",
        "enemies = increase_enemies()\n",
        "print(f\"enemies outside function: {enemies}\")"
      ],
      "metadata": {
        "id": "EvSYbdODnDJ_",
        "outputId": "c0dfc58d-a630-4657-f1c6-82c9871dab20",
        "colab": {
          "base_uri": "https://localhost:8080/"
        }
      },
      "execution_count": null,
      "outputs": [
        {
          "output_type": "stream",
          "name": "stdout",
          "text": [
            "enemies inside function: 1\n",
            "enemies outside function: 2\n"
          ]
        }
      ]
    },
    {
      "cell_type": "markdown",
      "source": [
        "\n",
        "\n",
        "---\n",
        "*Python Constants and Global Scopes*\n",
        "\n",
        "---\n",
        "\n",
        "\n"
      ],
      "metadata": {
        "id": "WkierR_plxji"
      }
    },
    {
      "cell_type": "markdown",
      "source": [
        "\n",
        "\n",
        "---\n",
        "*Remember, you should be careful with variables that have global scope, but don't believe the people who tell you that you should never use global scope. Global scope can be incredibly useful especially when you're defining constants. Global constants*\n",
        "\n",
        "---\n",
        "\n",
        "\n",
        "*Global constants are varibles which you define and you're never planning on   changing it ever again. it's just something like:*\n",
        "\n",
        "---\n",
        "\n"
      ],
      "metadata": {
        "id": "w--5EH2RmT4x"
      }
    },
    {
      "cell_type": "code",
      "source": [
        "# Global Constants\n",
        "\n",
        "pi = 3.14159\n",
        "\n",
        "def calc():\n",
        "  return pi\n",
        "\n",
        "calc()"
      ],
      "metadata": {
        "colab": {
          "base_uri": "https://localhost:8080/"
        },
        "id": "-7qdtrhml7Gm",
        "outputId": "d25c421c-151e-4415-fc57-a03cec1b98b6"
      },
      "execution_count": null,
      "outputs": [
        {
          "output_type": "execute_result",
          "data": {
            "text/plain": [
              "3.14159"
            ]
          },
          "metadata": {},
          "execution_count": 2
        }
      ]
    },
    {
      "cell_type": "markdown",
      "source": [
        "\n",
        "\n",
        "---\n",
        "*The naming convention in Python is tos turn it into all uppercase.*\n",
        "\n",
        "\n",
        "---\n",
        "\n"
      ],
      "metadata": {
        "id": "MVAnPFUtTG1P"
      }
    },
    {
      "cell_type": "code",
      "source": [
        "PI = 3.14159\n",
        "URL = \"https://www.google.com\"\n",
        "\n",
        "def calc():\n",
        "  URL = \"do not modify this code\""
      ],
      "metadata": {
        "id": "SKHP0QBTTRk5"
      },
      "execution_count": null,
      "outputs": []
    },
    {
      "cell_type": "markdown",
      "source": [
        "\n",
        "\n",
        "---\n",
        "\n",
        "*Scope Quiz*\n",
        "\n",
        "---\n",
        "**Question 1:**\n",
        "\n",
        "*What will be printed in the console when the following code is run?*\n",
        "\n",
        "*DO NOT run the code, just pretend to be a computer.*\n",
        "\n",
        "    def a_function(a_parameter):\n",
        "        a_variable = 15\n",
        "        return a_parameter\n",
        "    \n",
        "    a_function(10)\n",
        "    print(a_variable)\n",
        "\n",
        "---\n",
        "\n",
        "    Name Error\n",
        "\n",
        "---\n",
        "*It's trying to print a variable that is local to a_function() and is only available inside the function.*\n",
        "\n",
        "\n",
        "---\n",
        "**Question 2:**\n",
        "\n",
        "*What will be printed in the console when the code is run?*\n",
        "\n",
        "*DO NOT run the code, just pretend to be a computer.*\n",
        "\n",
        "    i = 50\n",
        "    def foo():\n",
        "        i = 100\n",
        "        return i\n",
        "    \n",
        "    foo()\n",
        "    print(i)\n",
        "\n",
        "---\n",
        "    50\n",
        "\n",
        "---\n",
        "*The print statement is outside the function foo(). So it can't access the local variable i = 100. It only sees the global i, which is equal to 50.*\n",
        "\n",
        "---\n",
        "**Question 3:**\n",
        "\n",
        "*What will be printed in the console when the following code is run?*\n",
        "\n",
        "*DO NOT run the code, just pretend to be a computer.*\n",
        "\n",
        "    def bar():\n",
        "        my_variable = 9\n",
        "    \n",
        "        if 16 > 9:\n",
        "          my_variable = 16\n",
        "    \n",
        "        print(my_variable)\n",
        "    \n",
        "    bar()\n",
        "\n",
        "---\n",
        "    16\n",
        "\n",
        "---\n",
        "*Remember that in Python there is no block scope. Inside a if/else/for/while code block is the same as outside it.*\n",
        "\n",
        "---\n"
      ],
      "metadata": {
        "id": "PznO7GgoTwgS"
      }
    },
    {
      "cell_type": "markdown",
      "source": [
        "\n",
        "\n",
        "---\n",
        "\n",
        "**Project :** *The Number Guessing Game*\n",
        "\n",
        "---\n",
        "*Number Guessing Game Objectives:*\n",
        "\n",
        "*Include an ASCII art logo.*\n",
        "\n",
        "*Allow the player to submit a guess for a number between 1 and 100.*\n",
        "\n",
        "*Check user's guess against actual answer. Print \"Too high.\" or \"Too low.\" depending on the user's answer.*\n",
        "\n",
        "*If they got the answer correct, show the actual answer to the player.*\n",
        "\n",
        "*Track the number of turns remaining.*\n",
        "\n",
        "*If they run out of turns, provide feedback to the player.*\n",
        "\n",
        "*Include two different difficulty levels (e.g., 10 guesses in easy mode, only 5 guesses in hard mode).*\n",
        "\n",
        "---\n",
        "\n",
        "\n",
        "\n"
      ],
      "metadata": {
        "id": "HJmiVVLbWwfd"
      }
    },
    {
      "cell_type": "code",
      "source": [
        "from random import randint\n",
        "from art import logo\n",
        "\n",
        "EASY_LEVEL_TURNS = 10\n",
        "HARD_LEVEL_TURNS = 5\n",
        "\n",
        "#Function to check user's guess against actual answer.\n",
        "def check_answer(guess, answer, turns):\n",
        "  \"\"\"checks answer against guess. Returns the number of turns remaining.\"\"\"\n",
        "  if guess > answer:\n",
        "    print(\"Too high.\")\n",
        "    return turns - 1\n",
        "  elif guess < answer:\n",
        "    print(\"Too low.\")\n",
        "    return turns - 1\n",
        "  else:\n",
        "    print(f\"You got it! The answer was {answer}.\")\n",
        "\n",
        "#Make function to set difficulty.\n",
        "def set_difficulty():\n",
        "  level = input(\"Choose a difficulty. Type 'easy' or 'hard': \")\n",
        "  if level == \"easy\":\n",
        "    return EASY_LEVEL_TURNS\n",
        "  else:\n",
        "    return HARD_LEVEL_TURNS\n",
        "\n",
        "def game():\n",
        "  print(logo)\n",
        "  #Choosing a random number between 1 and 100.\n",
        "  print(\"Welcome to the Number Guessing Game!\")\n",
        "  print(\"I'm thinking of a number between 1 and 100.\")\n",
        "  answer = randint(1, 100)\n",
        "  print(f\"Pssst, the correct answer is {answer}\")\n",
        "\n",
        "  turns = set_difficulty()\n",
        "  #Repeat the guessing functionality if they get it wrong.\n",
        "  guess = 0\n",
        "  while guess != answer:\n",
        "    print(f\"You have {turns} attempts remaining to guess the number.\")\n",
        "\n",
        "    #Let the user guess a number.\n",
        "    guess = int(input(\"Make a guess: \"))\n",
        "\n",
        "    #Track the number of turns and reduce by 1 if they get it wrong.\n",
        "    turns = check_answer(guess, answer, turns)\n",
        "    if turns == 0:\n",
        "      print(\"You've run out of guesses, you lose.\")\n",
        "      return\n",
        "    elif guess != answer:\n",
        "      print(\"Guess again.\")\n",
        "\n",
        "\n",
        "game()\n"
      ],
      "metadata": {
        "colab": {
          "base_uri": "https://localhost:8080/"
        },
        "id": "Y-6jrl59aCw-",
        "outputId": "0c633bf2-4e68-43b7-f760-676a35e3a5db"
      },
      "execution_count": null,
      "outputs": [
        {
          "output_type": "stream",
          "name": "stdout",
          "text": [
            "\n",
            "  / _ \\_   _  ___  ___ ___  /__   \\ |__   ___    /\\ \\ \\_   _ _ __ ___ | |__   ___ _ __\n",
            " / /_\\/ | | |/ _ \\/ __/ __|   / /\\/ '_ \\ / _ \\  /  \\/ / | | | '_ ` _ \\| '_ \\ / _ \\ '__|\n",
            "/ /_\\| |_| |  __/\\__ \\__ \\  / /  | | | |  __/ / /\\  /| |_| | | | | | | |_) |  __/ |\n",
            "\\____/ \\__,_|\\___||___/___/  \\/   |_| |_|\\___| \\_\\ \\/  \\__,_|_| |_| |_|_.__/ \\___|_|\n",
            "\n",
            "Welcome to the Number Guessing Game!\n",
            "I'm thinking of a number between 1 and 100.\n",
            "Pssst, the correct answer is 14\n",
            "Choose a difficulty. Type 'easy' or 'hard': hard\n",
            "You have 5 attempts remaining to guess the number.\n",
            "Make a guess: 14\n",
            "You got it! The answer was 14.\n"
          ]
        }
      ]
    }
  ]
}